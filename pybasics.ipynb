{
  "nbformat": 4,
  "nbformat_minor": 0,
  "metadata": {
    "colab": {
      "name": "pybasics.ipynb",
      "provenance": [],
      "collapsed_sections": [
        "e08e_Fd1o6nB",
        "O_K3y4g6ov8c"
      ],
      "authorship_tag": "ABX9TyNj6pIIqbszvBdfvtPgt2Fc"
    },
    "kernelspec": {
      "name": "python3",
      "display_name": "Python 3"
    },
    "language_info": {
      "name": "python"
    }
  },
  "cells": [
    {
      "cell_type": "markdown",
      "source": [
        "# String Operations"
      ],
      "metadata": {
        "id": "e08e_Fd1o6nB"
      }
    },
    {
      "cell_type": "code",
      "execution_count": null,
      "metadata": {
        "colab": {
          "base_uri": "https://localhost:8080/"
        },
        "id": "VdlZbb7pd1fS",
        "outputId": "176e57db-17d0-438c-f6f9-78dcc9ca4c44"
      },
      "outputs": [
        {
          "output_type": "stream",
          "name": "stdout",
          "text": [
            "hello world is opening word\n"
          ]
        }
      ],
      "source": [
        "s=\"hello world is opening word\"\n",
        "print(s)"
      ]
    },
    {
      "cell_type": "code",
      "source": [
        "print(type(s))"
      ],
      "metadata": {
        "colab": {
          "base_uri": "https://localhost:8080/"
        },
        "id": "OI7AH1s0eG8g",
        "outputId": "c7abc4c7-4a09-4624-886a-b32d32327f34"
      },
      "execution_count": null,
      "outputs": [
        {
          "output_type": "stream",
          "name": "stdout",
          "text": [
            "<class 'str'>\n"
          ]
        }
      ]
    },
    {
      "cell_type": "code",
      "source": [
        "print(len(s))"
      ],
      "metadata": {
        "colab": {
          "base_uri": "https://localhost:8080/"
        },
        "id": "6yYUL2EqeMb1",
        "outputId": "26ed9a85-babb-40e7-b270-a071a3068b7c"
      },
      "execution_count": null,
      "outputs": [
        {
          "output_type": "stream",
          "name": "stdout",
          "text": [
            "27\n"
          ]
        }
      ]
    },
    {
      "cell_type": "code",
      "source": [
        "print(s[1:4])\n",
        "print(s[5:])\n",
        "print(s[:8])"
      ],
      "metadata": {
        "colab": {
          "base_uri": "https://localhost:8080/"
        },
        "id": "Xi9E6ezsgNs1",
        "outputId": "4364fa12-de3e-4b60-bd90-e909b087352f"
      },
      "execution_count": null,
      "outputs": [
        {
          "output_type": "stream",
          "name": "stdout",
          "text": [
            "ell\n",
            " world is opening word\n",
            "hello wo\n"
          ]
        }
      ]
    },
    {
      "cell_type": "code",
      "source": [
        "s1=\"AI\"\n",
        "s2=\"Artificial Intelligence\"\n",
        "s3=s1+\"-\"+s2\n",
        "print(s3)"
      ],
      "metadata": {
        "colab": {
          "base_uri": "https://localhost:8080/"
        },
        "id": "2CTMGGfhhVQK",
        "outputId": "538e2eb4-3638-4853-d3a8-147692ae3e3d"
      },
      "execution_count": null,
      "outputs": [
        {
          "output_type": "stream",
          "name": "stdout",
          "text": [
            "AI-Artificial Intelligence\n"
          ]
        }
      ]
    },
    {
      "cell_type": "code",
      "source": [
        "s4=s1*3\n",
        "print(s4)"
      ],
      "metadata": {
        "colab": {
          "base_uri": "https://localhost:8080/"
        },
        "id": "y1KiNqcvh16p",
        "outputId": "b1bc7142-14c7-44e7-9ddb-ec4c11216a29"
      },
      "execution_count": null,
      "outputs": [
        {
          "output_type": "stream",
          "name": "stdout",
          "text": [
            "AIAIAI\n"
          ]
        }
      ]
    },
    {
      "cell_type": "code",
      "source": [
        "s.upper()"
      ],
      "metadata": {
        "colab": {
          "base_uri": "https://localhost:8080/",
          "height": 35
        },
        "id": "ULn8vZA0iBFb",
        "outputId": "4850d300-f268-46b8-addd-b796a5f9c645"
      },
      "execution_count": null,
      "outputs": [
        {
          "output_type": "execute_result",
          "data": {
            "text/plain": [
              "'HELLO WORLD IS OPENING WORD'"
            ],
            "application/vnd.google.colaboratory.intrinsic+json": {
              "type": "string"
            }
          },
          "metadata": {},
          "execution_count": 26
        }
      ]
    },
    {
      "cell_type": "code",
      "source": [
        "s.lower()"
      ],
      "metadata": {
        "colab": {
          "base_uri": "https://localhost:8080/",
          "height": 35
        },
        "id": "K-MTtwuyicoW",
        "outputId": "6c80f8b1-3880-434b-f621-63bda4cd03c4"
      },
      "execution_count": null,
      "outputs": [
        {
          "output_type": "execute_result",
          "data": {
            "text/plain": [
              "'hello world is opening word'"
            ],
            "application/vnd.google.colaboratory.intrinsic+json": {
              "type": "string"
            }
          },
          "metadata": {},
          "execution_count": 27
        }
      ]
    },
    {
      "cell_type": "code",
      "source": [
        "x=\"csk\"\n",
        "y=\"mi\"\n",
        "print(\"%s vs %s\"%(x,y))\n",
        "print(\"{} vs {}\".format(x,y))"
      ],
      "metadata": {
        "colab": {
          "base_uri": "https://localhost:8080/"
        },
        "id": "iL0H2dWFig_e",
        "outputId": "4a7bd0f1-e4f1-4cee-f543-424d41792b97"
      },
      "execution_count": null,
      "outputs": [
        {
          "output_type": "stream",
          "name": "stdout",
          "text": [
            "csk vs mi\n",
            "csk vs mi\n"
          ]
        }
      ]
    },
    {
      "cell_type": "code",
      "source": [
        "z=\"chennai super kings\"\n",
        "print(\"CSK- {}\".format(z))"
      ],
      "metadata": {
        "colab": {
          "base_uri": "https://localhost:8080/"
        },
        "id": "Mv9HqTwengGF",
        "outputId": "343d0a01-acc7-4c72-f8f7-5b22bd3e9f36"
      },
      "execution_count": null,
      "outputs": [
        {
          "output_type": "stream",
          "name": "stdout",
          "text": [
            "CSK- chennai super kings\n"
          ]
        }
      ]
    },
    {
      "cell_type": "markdown",
      "source": [
        "# Arithmetic Operations"
      ],
      "metadata": {
        "id": "O_K3y4g6ov8c"
      }
    },
    {
      "cell_type": "markdown",
      "source": [
        "**Numbers**"
      ],
      "metadata": {
        "id": "QMv4A6WwoliZ"
      }
    },
    {
      "cell_type": "code",
      "source": [
        "a=2\n",
        "b=4.0\n",
        "c=2+4j\n",
        "print(type(a))\n",
        "print(type(b))\n",
        "print(type(c))"
      ],
      "metadata": {
        "colab": {
          "base_uri": "https://localhost:8080/"
        },
        "id": "Xd3jlhfKoDP3",
        "outputId": "a52df101-a611-4637-fc5a-148c69d1e491"
      },
      "execution_count": null,
      "outputs": [
        {
          "output_type": "stream",
          "name": "stdout",
          "text": [
            "<class 'int'>\n",
            "<class 'float'>\n",
            "<class 'complex'>\n"
          ]
        }
      ]
    },
    {
      "cell_type": "code",
      "source": [
        "print(a+b)"
      ],
      "metadata": {
        "colab": {
          "base_uri": "https://localhost:8080/"
        },
        "id": "hwbFWWRQoa46",
        "outputId": "4825ed8f-90ac-45be-ec1d-667caa867d1c"
      },
      "execution_count": null,
      "outputs": [
        {
          "output_type": "stream",
          "name": "stdout",
          "text": [
            "6.0\n"
          ]
        }
      ]
    },
    {
      "cell_type": "code",
      "source": [
        "print(20+19)"
      ],
      "metadata": {
        "colab": {
          "base_uri": "https://localhost:8080/"
        },
        "id": "u1nNESVqogGy",
        "outputId": "fe5c4e7d-fe89-4e01-dbc0-112847fd63b0"
      },
      "execution_count": null,
      "outputs": [
        {
          "output_type": "stream",
          "name": "stdout",
          "text": [
            "39\n"
          ]
        }
      ]
    },
    {
      "cell_type": "code",
      "source": [
        "print(b-3)"
      ],
      "metadata": {
        "colab": {
          "base_uri": "https://localhost:8080/"
        },
        "id": "l4IihtOSpIfT",
        "outputId": "46017f3f-5ef7-443a-c96a-76ca535b4dc9"
      },
      "execution_count": null,
      "outputs": [
        {
          "output_type": "stream",
          "name": "stdout",
          "text": [
            "1.0\n"
          ]
        }
      ]
    },
    {
      "cell_type": "code",
      "source": [
        "print(8-3)"
      ],
      "metadata": {
        "colab": {
          "base_uri": "https://localhost:8080/"
        },
        "id": "PuWM8uSJpOjq",
        "outputId": "410e3fa1-9f9d-4d4a-ae14-e95f81669b80"
      },
      "execution_count": null,
      "outputs": [
        {
          "output_type": "stream",
          "name": "stdout",
          "text": [
            "5\n"
          ]
        }
      ]
    },
    {
      "cell_type": "code",
      "source": [
        "print(a*b)"
      ],
      "metadata": {
        "colab": {
          "base_uri": "https://localhost:8080/"
        },
        "id": "JvE-68irpTND",
        "outputId": "2f3a672c-b4a9-4267-d2ce-286bce54d3ea"
      },
      "execution_count": null,
      "outputs": [
        {
          "output_type": "stream",
          "name": "stdout",
          "text": [
            "8.0\n"
          ]
        }
      ]
    },
    {
      "cell_type": "code",
      "source": [
        "print(b/a)"
      ],
      "metadata": {
        "colab": {
          "base_uri": "https://localhost:8080/"
        },
        "id": "9DUoQC01pftC",
        "outputId": "76cbc877-bdeb-47cc-a85a-48453ef45766"
      },
      "execution_count": null,
      "outputs": [
        {
          "output_type": "stream",
          "name": "stdout",
          "text": [
            "2.0\n"
          ]
        }
      ]
    },
    {
      "cell_type": "code",
      "source": [
        "print(9//2)"
      ],
      "metadata": {
        "colab": {
          "base_uri": "https://localhost:8080/"
        },
        "id": "Q3OQ8y6Xpi1V",
        "outputId": "77ffd4fd-f862-4051-f2b7-6023df1c8e8e"
      },
      "execution_count": null,
      "outputs": [
        {
          "output_type": "stream",
          "name": "stdout",
          "text": [
            "4\n"
          ]
        }
      ]
    },
    {
      "cell_type": "code",
      "source": [
        "print(b**a)"
      ],
      "metadata": {
        "colab": {
          "base_uri": "https://localhost:8080/"
        },
        "id": "EIMfFEM-pmBg",
        "outputId": "348d9928-d5e3-4ee4-8ac6-eecde3f6244c"
      },
      "execution_count": null,
      "outputs": [
        {
          "output_type": "stream",
          "name": "stdout",
          "text": [
            "16.0\n"
          ]
        }
      ]
    },
    {
      "cell_type": "markdown",
      "source": [
        "# Other Operations"
      ],
      "metadata": {
        "id": "s7zAxg9jqCty"
      }
    },
    {
      "cell_type": "markdown",
      "source": [
        "Lists"
      ],
      "metadata": {
        "id": "FMyuwt7aqMgG"
      }
    },
    {
      "cell_type": "code",
      "source": [
        "l=[1,2,3]\n",
        "print(l)"
      ],
      "metadata": {
        "colab": {
          "base_uri": "https://localhost:8080/"
        },
        "id": "8IHfYrHipr8l",
        "outputId": "75eb3ed1-b971-444c-a380-810ad6e764cf"
      },
      "execution_count": null,
      "outputs": [
        {
          "output_type": "stream",
          "name": "stdout",
          "text": [
            "[1, 2, 3]\n"
          ]
        }
      ]
    },
    {
      "cell_type": "code",
      "source": [
        "l.append(4)\n",
        "print(l)"
      ],
      "metadata": {
        "colab": {
          "base_uri": "https://localhost:8080/"
        },
        "id": "SGpZ0vHaqWZs",
        "outputId": "3efa8ec2-8562-4e87-cadd-59680221f1a4"
      },
      "execution_count": null,
      "outputs": [
        {
          "output_type": "stream",
          "name": "stdout",
          "text": [
            "[1, 2, 3, 4]\n"
          ]
        }
      ]
    },
    {
      "cell_type": "code",
      "source": [
        "l.extend([5,6,7])\n",
        "print(l)"
      ],
      "metadata": {
        "colab": {
          "base_uri": "https://localhost:8080/"
        },
        "id": "VUcPYh5BqeyV",
        "outputId": "221ad07e-38d9-4f14-a466-23cec3e75644"
      },
      "execution_count": null,
      "outputs": [
        {
          "output_type": "stream",
          "name": "stdout",
          "text": [
            "[1, 2, 3, 4, 5, 6, 7]\n"
          ]
        }
      ]
    },
    {
      "cell_type": "code",
      "source": [
        "ls=list(range(10))\n",
        "print(ls)"
      ],
      "metadata": {
        "colab": {
          "base_uri": "https://localhost:8080/"
        },
        "id": "v2H3KDiKqn8j",
        "outputId": "913c397a-711d-495a-9046-298e0d776ba5"
      },
      "execution_count": null,
      "outputs": [
        {
          "output_type": "stream",
          "name": "stdout",
          "text": [
            "[0, 1, 2, 3, 4, 5, 6, 7, 8, 9]\n"
          ]
        }
      ]
    },
    {
      "cell_type": "code",
      "source": [
        "print(\"elements from 5 to 8:\" ,ls[5:8])\n",
        "print(\"every second element from first\",ls[1::2])"
      ],
      "metadata": {
        "colab": {
          "base_uri": "https://localhost:8080/"
        },
        "id": "KNZfbpxQqwEc",
        "outputId": "63495e83-7a67-484c-b11b-0e11c40e35f5"
      },
      "execution_count": null,
      "outputs": [
        {
          "output_type": "stream",
          "name": "stdout",
          "text": [
            "elements from 5 to 8: [5, 6, 7]\n",
            "every second element from first [1, 3, 5, 7, 9]\n"
          ]
        }
      ]
    },
    {
      "cell_type": "code",
      "source": [
        "my_dict={'key1':'value1','key2':'value2'}\n",
        "print(my_dict['key1'])"
      ],
      "metadata": {
        "colab": {
          "base_uri": "https://localhost:8080/"
        },
        "id": "OnGZ3FqVJqNq",
        "outputId": "e85cbd9e-62ba-4aa1-927c-4049c91febb1"
      },
      "execution_count": null,
      "outputs": [
        {
          "output_type": "stream",
          "name": "stdout",
          "text": [
            "value1\n"
          ]
        }
      ]
    },
    {
      "cell_type": "code",
      "source": [
        "my_dict['key1']=765\n",
        "print(my_dict)"
      ],
      "metadata": {
        "colab": {
          "base_uri": "https://localhost:8080/"
        },
        "id": "4_62FZhCuvW3",
        "outputId": "75e7127a-568f-4462-ab62-01b618554269"
      },
      "execution_count": null,
      "outputs": [
        {
          "output_type": "stream",
          "name": "stdout",
          "text": [
            "{'key1': 765, 'key2': 'value2'}\n"
          ]
        }
      ]
    },
    {
      "cell_type": "code",
      "source": [
        "d={}\n",
        "print(d)\n",
        "\n",
        "#Creating key using assignment for dictionary\n",
        "d['team']='csk'\n",
        "print(d)"
      ],
      "metadata": {
        "colab": {
          "base_uri": "https://localhost:8080/"
        },
        "id": "NgZst07vvOvQ",
        "outputId": "ded6c1ac-175b-4b5a-addc-62fa6f423b59"
      },
      "execution_count": null,
      "outputs": [
        {
          "output_type": "stream",
          "name": "stdout",
          "text": [
            "{}\n",
            "{'team': 'csk'}\n"
          ]
        }
      ]
    },
    {
      "cell_type": "markdown",
      "source": [
        "Set and Booleans"
      ],
      "metadata": {
        "id": "ISLv_CmmwfZc"
      }
    },
    {
      "cell_type": "code",
      "source": [
        "x=set()\n",
        "\n",
        "x.add(1)\n",
        "\n",
        "x"
      ],
      "metadata": {
        "id": "yhIJUMNuwHJz",
        "colab": {
          "base_uri": "https://localhost:8080/"
        },
        "outputId": "793dac87-2bde-41f8-d57c-6fe781ee0d42"
      },
      "execution_count": null,
      "outputs": [
        {
          "output_type": "execute_result",
          "data": {
            "text/plain": [
              "{1}"
            ]
          },
          "metadata": {},
          "execution_count": 2
        }
      ]
    },
    {
      "cell_type": "code",
      "source": [
        "l=[1,1,2,2,3,4,5,6,6,7,7]\n",
        "\n",
        "print (l)"
      ],
      "metadata": {
        "colab": {
          "base_uri": "https://localhost:8080/"
        },
        "id": "i_bd1SXJQNUv",
        "outputId": "8c4c865f-a795-410a-9a38-a388ca27461f"
      },
      "execution_count": null,
      "outputs": [
        {
          "output_type": "stream",
          "name": "stdout",
          "text": [
            "[1, 1, 2, 2, 3, 4, 5, 6, 6, 7, 7]\n"
          ]
        }
      ]
    },
    {
      "cell_type": "code",
      "source": [
        "a=set(l)\n",
        "print(a)"
      ],
      "metadata": {
        "colab": {
          "base_uri": "https://localhost:8080/"
        },
        "id": "0Li3wr-mQgxD",
        "outputId": "0d7aa240-22e8-40cd-d9ec-5a8153179f81"
      },
      "execution_count": null,
      "outputs": [
        {
          "output_type": "stream",
          "name": "stdout",
          "text": [
            "{1, 2, 3, 4, 5, 6, 7}\n"
          ]
        }
      ]
    },
    {
      "cell_type": "code",
      "source": [
        "a=5\n",
        "b=5\n",
        "\n",
        "if a>b:\n",
        "     print(\"a is greater than b\")\n",
        "elif b>a:\n",
        "     print(\"b is greater than b\")\n",
        "else :\n",
        "     print(\"b==a\")"
      ],
      "metadata": {
        "colab": {
          "base_uri": "https://localhost:8080/"
        },
        "id": "iudwTqDPQvyZ",
        "outputId": "ea68e734-48f9-41b5-f625-e840a16f9248"
      },
      "execution_count": null,
      "outputs": [
        {
          "output_type": "stream",
          "name": "stdout",
          "text": [
            "b==a\n"
          ]
        }
      ]
    },
    {
      "cell_type": "markdown",
      "source": [
        "Getting input from the user"
      ],
      "metadata": {
        "id": "L4vtKgN6cdUI"
      }
    },
    {
      "cell_type": "code",
      "source": [
        "a=int(input(\"enter the input:\"))"
      ],
      "metadata": {
        "colab": {
          "base_uri": "https://localhost:8080/"
        },
        "id": "PrfDHlkeRc8x",
        "outputId": "0129b9cf-9cb9-4b9f-d391-1bbce94d2368"
      },
      "execution_count": null,
      "outputs": [
        {
          "name": "stdout",
          "output_type": "stream",
          "text": [
            "enter the input:5\n"
          ]
        }
      ]
    },
    {
      "cell_type": "code",
      "source": [
        "b=int(input(\"enter the input for b:\"))\n",
        "c=int(input(\"enter the input for c:\"))\n",
        "d=a+b+c\n",
        "print(\"the sum is %s\"%(d))"
      ],
      "metadata": {
        "id": "2hSxN_nPR-Ke",
        "colab": {
          "base_uri": "https://localhost:8080/"
        },
        "outputId": "5b5a9c5b-21fe-4d6f-fe43-4120c91e1a7a"
      },
      "execution_count": null,
      "outputs": [
        {
          "output_type": "stream",
          "name": "stdout",
          "text": [
            "enter the input for b:7\n",
            "enter the input for c:4\n",
            "the sum is 16\n"
          ]
        }
      ]
    }
  ]
}